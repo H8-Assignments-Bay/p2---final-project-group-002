{
  "nbformat": 4,
  "nbformat_minor": 0,
  "metadata": {
    "colab": {
      "name": "final_project_cnn.ipynb",
      "provenance": [],
      "collapsed_sections": []
    },
    "kernelspec": {
      "name": "python3",
      "display_name": "Python 3"
    },
    "language_info": {
      "name": "python"
    },
    "accelerator": "GPU",
    "gpuClass": "standard"
  },
  "cells": [
    {
      "cell_type": "markdown",
      "source": [
        "# Final Project Group 2\n",
        "## Group Members:\n",
        "- Ridha Fuady\n",
        "- William Hugo\n",
        "- Irfan Fahmudin \n",
        "- Al Izhar Iqrami\n",
        "\n",
        "## Dataset\n",
        "https://www.kaggle.com/datasets/vikashrajluhaniwal/fashion-images?select=data\n",
        "\n",
        "## Objective\n",
        "Untuk predict tipe fashion produk user yang nanti akan digunakan untuk rekomendasi sistem kami"
      ],
      "metadata": {
        "id": "Z7vpHq3GbNu9"
      }
    },
    {
      "cell_type": "code",
      "execution_count": null,
      "metadata": {
        "colab": {
          "base_uri": "https://localhost:8080/"
        },
        "id": "79cf_DbqpFiG",
        "outputId": "9f8b0c39-2b08-41b4-f200-2e46db8e6fd9"
      },
      "outputs": [
        {
          "output_type": "stream",
          "name": "stdout",
          "text": [
            "Drive already mounted at /content/gdrive; to attempt to forcibly remount, call drive.mount(\"/content/gdrive\", force_remount=True).\n"
          ]
        }
      ],
      "source": [
        "# mount google drive\n",
        "\n",
        "from google.colab import drive\n",
        "drive.mount('/content/gdrive')"
      ]
    },
    {
      "cell_type": "code",
      "source": [
        "# navigasi ke folder\n",
        "% cd /content/gdrive/My Drive/data_fashion"
      ],
      "metadata": {
        "id": "XbDN0txe98En"
      },
      "execution_count": null,
      "outputs": []
    },
    {
      "cell_type": "markdown",
      "source": [
        "## IMPORT LIBRARY"
      ],
      "metadata": {
        "id": "rhrpyuLHqDsK"
      }
    },
    {
      "cell_type": "code",
      "source": [
        "import os\n",
        "import glob\n",
        "import numpy as np\n",
        "import pandas as pd\n",
        "import cv2\n",
        "import matplotlib.pyplot as plt\n",
        "import seaborn as sns\n",
        "import pathlib\n",
        "import random\n",
        "import tensorflow as tf\n",
        "from tensorflow.keras.callbacks import EarlyStopping,ModelCheckpoint\n",
        "\n",
        "from tensorflow.keras.preprocessing import image\n",
        "from tensorflow.keras.preprocessing.image import ImageDataGenerator\n",
        "\n",
        "from tensorflow.keras.models import Sequential\n",
        "from tensorflow.keras.layers import Conv2D, MaxPooling2D,Dense, Dropout, Flatten"
      ],
      "metadata": {
        "id": "7aEyK7S1qBMG"
      },
      "execution_count": null,
      "outputs": []
    },
    {
      "cell_type": "markdown",
      "source": [
        "## DATA LOADING"
      ],
      "metadata": {
        "id": "HX3TVleLqjxy"
      }
    },
    {
      "cell_type": "code",
      "source": [
        "main_dir = pathlib.Path(\"/content/gdrive/MyDrive/data_fashion\")\n",
        "class_names = np.array(sorted([item.name for item in main_dir.glob('*')]))\n",
        "print(class_names)"
      ],
      "metadata": {
        "colab": {
          "base_uri": "https://localhost:8080/"
        },
        "id": "QXnVK77qqHbF",
        "outputId": "8b5a30b7-dd77-4833-860e-3e4a78fbece7"
      },
      "execution_count": null,
      "outputs": [
        {
          "output_type": "stream",
          "name": "stdout",
          "text": [
            "['143694234-97057406-1627033768.jpg'\n",
            " '2017-fashion-classic-embossed-striped-shirts-500x500 (1).png'\n",
            " '2211 (1).jpg' '2211.jpg' 'Apparel Set' 'Bottomwear' 'Dress' 'Flipflop'\n",
            " 'Innerwear' 'Sandal' 'Shoes' 'Socks' 'Topwear'\n",
            " 'celana_pendek_thom_browne_1629559010_3a03df1d_progressive.jpg'\n",
            " 'my_model.h5' 'my_model_imp.h5' 'wio-8-road-running-shoes-S6jPM3 (1).jpg']\n"
          ]
        }
      ]
    },
    {
      "cell_type": "code",
      "source": [
        "def visualize_image(target_class):\n",
        "  target_folder = '/content/gdrive/MyDrive/data_fashion//' + target_class\n",
        "\n",
        "  # pick a random samples\n",
        "  random_image = random.sample(os.listdir(target_folder), 1)\n",
        "\n",
        "  img = cv2.imread(target_folder + \"/\" + random_image[0])\n",
        "  plt.imshow(img)\n",
        "  plt.title(target_class)\n",
        "  plt.axis(\"off\");\n",
        "\n",
        "  print(f\"Ukuran Gambar: {img.shape}\")\n",
        "  return img"
      ],
      "metadata": {
        "id": "B9IwGUY_q5iM"
      },
      "execution_count": null,
      "outputs": []
    },
    {
      "cell_type": "code",
      "source": [
        "# melihat data\n",
        "img = visualize_image(target_class='Bottomwear')"
      ],
      "metadata": {
        "colab": {
          "base_uri": "https://localhost:8080/",
          "height": 282
        },
        "id": "tgJ7hw70_Qca",
        "outputId": "1d973a3c-69a2-4584-fc35-22830683684b"
      },
      "execution_count": null,
      "outputs": [
        {
          "output_type": "stream",
          "name": "stdout",
          "text": [
            "Ukuran Gambar: (2400, 1800, 3)\n"
          ]
        },
        {
          "output_type": "display_data",
          "data": {
            "text/plain": [
              "<Figure size 432x288 with 1 Axes>"
            ],
            "image/png": "[encoded data removed]"
          },
          "metadata": {
            "needs_background": "light"
          }
        }
      ]
    },
    {
      "cell_type": "code",
      "source": [
        "# melihat data\n",
        "img = visualize_image(target_class='Apparel Set')"
      ],
      "metadata": {
        "colab": {
          "base_uri": "https://localhost:8080/",
          "height": 282
        },
        "id": "Ljuap4aH_Vdk",
        "outputId": "a1d14b55-e29d-4832-cb47-b869d16457ea"
      },
      "execution_count": null,
      "outputs": [
        {
          "output_type": "stream",
          "name": "stdout",
          "text": [
            "Ukuran Gambar: (2400, 1800, 3)\n"
          ]
        },
        {
          "output_type": "display_data",
          "data": {
            "text/plain": [
              "<Figure size 432x288 with 1 Axes>"
            ],
            "image/png": "[encoded data removed]"
          },
          "metadata": {
            "needs_background": "light"
          }
        }
      ]
    },
    {
      "cell_type": "markdown",
      "source": [
        "## DATA PREPROCESSING"
      ],
      "metadata": {
        "id": "OubRR8rg_iSB"
      }
    },
    {
      "cell_type": "code",
      "source": [
        "# set the parameter\n",
        "\n",
        "batch_size = 32\n",
        "img_height = 250\n",
        "img_width = 250"
      ],
      "metadata": {
        "id": "xMz43Rzo_fNc"
      },
      "execution_count": null,
      "outputs": []
    },
    {
      "cell_type": "code",
      "source": [
        "# split data into train and val\n",
        "\n",
        "train_data = tf.keras.utils.image_dataset_from_directory(\"/content/gdrive/MyDrive/data_fashion\", validation_split=0.2, subset=\"training\", seed=123, image_size=(img_height, img_width),batch_size=batch_size, color_mode='grayscale')\n",
        "\n",
        "val_data = tf.keras.preprocessing.image_dataset_from_directory(\"/content/gdrive/MyDrive/data_fashion\", validation_split=0.2,subset=\"validation\",seed=123,image_size= (img_height, img_width),batch_size=batch_size, color_mode='grayscale')"
      ],
      "metadata": {
        "colab": {
          "base_uri": "https://localhost:8080/"
        },
        "id": "9WH8Zcs3_oPV",
        "outputId": "66768ee7-daa3-4028-a1a0-8de6445ff62c"
      },
      "execution_count": null,
      "outputs": [
        {
          "output_type": "stream",
          "name": "stdout",
          "text": [
            "Found 2905 files belonging to 9 classes.\n",
            "Using 2324 files for training.\n",
            "Found 2905 files belonging to 9 classes.\n",
            "Using 581 files for validation.\n"
          ]
        }
      ]
    },
    {
      "cell_type": "code",
      "source": [
        "AUTOTUNE = tf.data.experimental.AUTOTUNE\n",
        "\n",
        "# membuat fungsi untuk augmentasi data\n",
        "def aug_pipeline(image, label):\n",
        "    image = tf.image.random_flip_left_right(image)\n",
        "    return image, label"
      ],
      "metadata": {
        "id": "H7nTw4Y6_yzS"
      },
      "execution_count": null,
      "outputs": []
    },
    {
      "cell_type": "code",
      "source": [
        "train_data = train_data.cache().prefetch(buffer_size=AUTOTUNE)\n",
        "train_data = train_data.map(aug_pipeline, num_parallel_calls=AUTOTUNE)\n",
        "\n",
        "val_data = val_data.cache().prefetch(buffer_size=AUTOTUNE)\n",
        "# val_data = val_data.map(aug_pipeline, num_parallel_calls=AUTOTUNE)"
      ],
      "metadata": {
        "id": "mfVKe8GSAKIS"
      },
      "execution_count": null,
      "outputs": []
    },
    {
      "cell_type": "code",
      "source": [
        "# rescaling data agar berada pada rentang 0-1\n",
        "normalization_layer = tf.keras.layers.experimental.preprocessing.Rescaling(1./255)\n",
        "normalized_ds = train_data.map(lambda x, y: (normalization_layer(x), y))\n",
        "image_batch, labels_batch = next(iter(normalized_ds))\n",
        "first_image = image_batch[0]"
      ],
      "metadata": {
        "id": "CoWLDW6tANLr"
      },
      "execution_count": null,
      "outputs": []
    },
    {
      "cell_type": "code",
      "source": [
        "for image, label in train_data.take(1):\n",
        "  print(\"Image shape: \", image.numpy().shape)"
      ],
      "metadata": {
        "colab": {
          "base_uri": "https://localhost:8080/"
        },
        "id": "aqYXlmSHEEu6",
        "outputId": "2bc32c5d-26e6-4dbd-9c3c-1d5509ced1e1"
      },
      "execution_count": null,
      "outputs": [
        {
          "output_type": "stream",
          "name": "stdout",
          "text": [
            "Image shape:  (32, 250, 250, 1)\n"
          ]
        }
      ]
    },
    {
      "cell_type": "markdown",
      "source": [
        "## BUILD MODEL"
      ],
      "metadata": {
        "id": "ykg9a7qEBa7g"
      }
    },
    {
      "cell_type": "code",
      "source": [
        "# mendefinisikan fungsi callback\n",
        "callbacks= [\n",
        "            EarlyStopping(monitor= 'val_loss', mode='min', patience= 3, verbose=1),\n",
        "            ModelCheckpoint('bestmodel_47.hdf5', monitor='val_loss')]\n",
        "# input= [img_height,img_width,3]\n",
        "input= [img_height,img_width,1] # Kalau pake grayscale"
      ],
      "metadata": {
        "id": "JCUL9bzTAaAy"
      },
      "execution_count": null,
      "outputs": []
    },
    {
      "cell_type": "code",
      "source": [
        "#konvolusi 1\n",
        "model= Sequential()\n",
        "model.add(Conv2D(filters=32, kernel_size=2, activation= 'relu', input_shape= input))\n",
        "model.add(MaxPooling2D(pool_size=4, strides=4))\n",
        "\n",
        "#konvolusi 2\n",
        "model.add(Conv2D(filters=64, kernel_size=3, activation= 'relu', padding='same' ))\n",
        "model.add(MaxPooling2D(pool_size=3, strides=3))\n",
        "model.add(tf.keras.layers.Dropout(rate=0.5))\n",
        "\n",
        "#konvolusi 3\n",
        "model.add(Conv2D(filters=64, kernel_size=4, activation= 'relu' , padding='same'))\n",
        "model.add(MaxPooling2D(pool_size=2, strides=2))\n",
        "model.add(tf.keras.layers.Dropout(rate=0.5))\n",
        "\n",
        "#konvolusi 4\n",
        "model.add(Conv2D(filters=128, kernel_size=2, activation= 'relu' , padding='same'))\n",
        "model.add(tf.keras.layers.Dropout(rate=0.5))\n",
        "\n",
        "# flatten\n",
        "model.add(Flatten())\n",
        "model.add(Dense(units=256, activation= 'relu'))\n",
        "model.add(tf.keras.layers.Dropout(rate=0.2))\n",
        "model.add(Dense(units=128, activation= 'relu'))\n",
        "model.add(tf.keras.layers.Dropout(rate=0.3))\n",
        "\n",
        "\n",
        "model.add(Dense(units=9, activation= 'softmax'))"
      ],
      "metadata": {
        "id": "zAcqlFXeBehr"
      },
      "execution_count": null,
      "outputs": []
    },
    {
      "cell_type": "code",
      "source": [
        "model.summary()"
      ],
      "metadata": {
        "colab": {
          "base_uri": "https://localhost:8080/"
        },
        "id": "yCn6gsjLKggZ",
        "outputId": "855be056-8e13-4143-a916-a3731ad7e672"
      },
      "execution_count": null,
      "outputs": [
        {
          "output_type": "stream",
          "name": "stdout",
          "text": [
            "Model: \"sequential\"\n",
            "_________________________________________________________________\n",
            " Layer (type)                Output Shape              Param #   \n",
            "=================================================================\n",
            " conv2d (Conv2D)             (None, 249, 249, 32)      160       \n",
            "                                                                 \n",
            " max_pooling2d (MaxPooling2D  (None, 62, 62, 32)       0         \n",
            " )                                                               \n",
            "                                                                 \n",
            " conv2d_1 (Conv2D)           (None, 62, 62, 64)        18496     \n",
            "                                                                 \n",
            " max_pooling2d_1 (MaxPooling  (None, 20, 20, 64)       0         \n",
            " 2D)                                                             \n",
            "                                                                 \n",
            " dropout (Dropout)           (None, 20, 20, 64)        0         \n",
            "                                                                 \n",
            " conv2d_2 (Conv2D)           (None, 20, 20, 64)        65600     \n",
            "                                                                 \n",
            " max_pooling2d_2 (MaxPooling  (None, 10, 10, 64)       0         \n",
            " 2D)                                                             \n",
            "                                                                 \n",
            " dropout_1 (Dropout)         (None, 10, 10, 64)        0         \n",
            "                                                                 \n",
            " conv2d_3 (Conv2D)           (None, 10, 10, 128)       32896     \n",
            "                                                                 \n",
            " dropout_2 (Dropout)         (None, 10, 10, 128)       0         \n",
            "                                                                 \n",
            " flatten (Flatten)           (None, 12800)             0         \n",
            "                                                                 \n",
            " dense (Dense)               (None, 256)               3277056   \n",
            "                                                                 \n",
            " dropout_3 (Dropout)         (None, 256)               0         \n",
            "                                                                 \n",
            " dense_1 (Dense)             (None, 128)               32896     \n",
            "                                                                 \n",
            " dropout_4 (Dropout)         (None, 128)               0         \n",
            "                                                                 \n",
            " dense_2 (Dense)             (None, 9)                 1161      \n",
            "                                                                 \n",
            "=================================================================\n",
            "Total params: 3,428,265\n",
            "Trainable params: 3,428,265\n",
            "Non-trainable params: 0\n",
            "_________________________________________________________________\n"
          ]
        }
      ]
    },
    {
      "cell_type": "code",
      "source": [
        "model.compile(optimizer=\"adam\", loss=tf.keras.losses.SparseCategoricalCrossentropy(), metrics=['accuracy'])"
      ],
      "metadata": {
        "id": "W4Ad1xCUK5fl"
      },
      "execution_count": null,
      "outputs": []
    },
    {
      "cell_type": "code",
      "source": [
        "history = model.fit(train_data, validation_data = val_data, callbacks = callbacks, epochs=50)"
      ],
      "metadata": {
        "colab": {
          "base_uri": "https://localhost:8080/"
        },
        "id": "QNdmpFSOLFSe",
        "outputId": "30ee29e4-8d30-435f-9fe3-69962e16a771"
      },
      "execution_count": null,
      "outputs": [
        {
          "output_type": "stream",
          "name": "stdout",
          "text": [
            "Epoch 1/50\n",
            "73/73 [==============================] - 736s 10s/step - loss: 6.9056 - accuracy: 0.3386 - val_loss: 1.6515 - val_accuracy: 0.6472\n",
            "Epoch 2/50\n",
            "73/73 [==============================] - 4s 54ms/step - loss: 1.3132 - accuracy: 0.5581 - val_loss: 1.1176 - val_accuracy: 0.7281\n",
            "Epoch 3/50\n",
            "73/73 [==============================] - 3s 41ms/step - loss: 1.0414 - accuracy: 0.6330 - val_loss: 0.9380 - val_accuracy: 0.7539\n",
            "Epoch 4/50\n",
            "73/73 [==============================] - 3s 41ms/step - loss: 0.8988 - accuracy: 0.6902 - val_loss: 0.8754 - val_accuracy: 0.7642\n",
            "Epoch 5/50\n",
            "73/73 [==============================] - 3s 41ms/step - loss: 0.8440 - accuracy: 0.7070 - val_loss: 0.9438 - val_accuracy: 0.7814\n",
            "Epoch 6/50\n",
            "73/73 [==============================] - 3s 41ms/step - loss: 0.8109 - accuracy: 0.7070 - val_loss: 0.8350 - val_accuracy: 0.7952\n",
            "Epoch 7/50\n",
            "73/73 [==============================] - 3s 41ms/step - loss: 0.7634 - accuracy: 0.7324 - val_loss: 0.8455 - val_accuracy: 0.7866\n",
            "Epoch 8/50\n",
            "73/73 [==============================] - 3s 41ms/step - loss: 0.7233 - accuracy: 0.7371 - val_loss: 0.7172 - val_accuracy: 0.8021\n",
            "Epoch 9/50\n",
            "73/73 [==============================] - 3s 41ms/step - loss: 0.6826 - accuracy: 0.7448 - val_loss: 0.7830 - val_accuracy: 0.7917\n",
            "Epoch 10/50\n",
            "73/73 [==============================] - 3s 41ms/step - loss: 0.6439 - accuracy: 0.7711 - val_loss: 0.6201 - val_accuracy: 0.8227\n",
            "Epoch 11/50\n",
            "73/73 [==============================] - 3s 41ms/step - loss: 0.6167 - accuracy: 0.7788 - val_loss: 0.6942 - val_accuracy: 0.8417\n",
            "Epoch 12/50\n",
            "73/73 [==============================] - 3s 41ms/step - loss: 0.6237 - accuracy: 0.7728 - val_loss: 0.6414 - val_accuracy: 0.8589\n",
            "Epoch 13/50\n",
            "73/73 [==============================] - 3s 41ms/step - loss: 0.6062 - accuracy: 0.7788 - val_loss: 0.6640 - val_accuracy: 0.8417\n",
            "Epoch 13: early stopping\n"
          ]
        }
      ]
    },
    {
      "cell_type": "code",
      "source": [
        "#Visualising the training and validation loss\n",
        "fig, axs = plt.subplots(2,1)\n",
        "axs[0].plot(range(13),history.history['loss'],label='train loss')\n",
        "axs[0].plot(range(13),history.history['val_loss'],label='val loss')\n",
        "axs[0].set_xlabel('Epoch')\n",
        "axs[0].set_ylabel('Loss')\n",
        "\n",
        "axs[1].plot(range(13),history.history['accuracy'],label='train acc')\n",
        "axs[1].plot(range(13),history.history['val_accuracy'],label='val acc')\n",
        "axs[1].set_xlabel('Epoch')\n",
        "axs[1].set_ylabel('Accuracy')\n",
        "plt.show()"
      ],
      "metadata": {
        "id": "sTx9kPOoCW1M",
        "colab": {
          "base_uri": "https://localhost:8080/",
          "height": 279
        },
        "outputId": "6a12cb15-d21f-4724-9a72-76b7b9c0f5d9"
      },
      "execution_count": null,
      "outputs": [
        {
          "output_type": "display_data",
          "data": {
            "text/plain": [
              "<Figure size 432x288 with 2 Axes>"
            ],
            "image/png": "[encoded data removed]"
          },
          "metadata": {
            "needs_background": "light"
          }
        }
      ]
    },
    {
      "cell_type": "markdown",
      "source": [
        "## Model Improvement"
      ],
      "metadata": {
        "id": "KsL4EDLr3Skd"
      }
    },
    {
      "cell_type": "code",
      "source": [
        "#konvolusi 1\n",
        "model_imp= Sequential()\n",
        "model_imp.add(Conv2D(filters=32, kernel_size=2, activation= 'relu', input_shape= input))\n",
        "model_imp.add(MaxPooling2D(pool_size=4, strides=4))\n",
        "\n",
        "#konvolusi 2\n",
        "model_imp.add(Conv2D(filters=64, kernel_size=3, activation= 'relu', padding='valid' ))\n",
        "model_imp.add(MaxPooling2D(pool_size=3, strides=3))\n",
        "model_imp.add(tf.keras.layers.Dropout(rate=0.5))\n",
        "model_imp.add(tf.keras.layers.BatchNormalization())\n",
        "\n",
        "#konvolusi 3\n",
        "model_imp.add(Conv2D(filters=64, kernel_size=4, activation= 'relu' , padding='same'))\n",
        "model_imp.add(MaxPooling2D(pool_size=2, strides=2))\n",
        "model_imp.add(tf.keras.layers.Dropout(rate=0.5))\n",
        "model_imp.add(tf.keras.layers.BatchNormalization())\n",
        "\n",
        "#konvolusi 4\n",
        "model_imp.add(Conv2D(filters=128, kernel_size=2, activation= 'relu' , padding='same'))\n",
        "model_imp.add(tf.keras.layers.Dropout(rate=0.5))\n",
        "model_imp.add(tf.keras.layers.BatchNormalization())\n",
        "\n",
        "# flatten\n",
        "model_imp.add(Flatten())\n",
        "model_imp.add(Dense(units=256, activation= 'relu'))\n",
        "model_imp.add(tf.keras.layers.Dropout(rate=0.3))\n",
        "model_imp.add(Dense(units=128, activation= 'relu'))\n",
        "model_imp.add(tf.keras.layers.Dropout(rate=0.3))\n",
        "\n",
        "\n",
        "model_imp.add(Dense(units=9, activation= 'softmax'))"
      ],
      "metadata": {
        "id": "kwc1tA8K3UYF"
      },
      "execution_count": null,
      "outputs": []
    },
    {
      "cell_type": "code",
      "source": [
        "model_imp.summary()"
      ],
      "metadata": {
        "colab": {
          "base_uri": "https://localhost:8080/"
        },
        "id": "Rk0VbeQT36By",
        "outputId": "47bf248f-4a9e-4ffc-9e84-136ed24cbcbf"
      },
      "execution_count": null,
      "outputs": [
        {
          "output_type": "stream",
          "name": "stdout",
          "text": [
            "Model: \"sequential_4\"\n",
            "_________________________________________________________________\n",
            " Layer (type)                Output Shape              Param #   \n",
            "=================================================================\n",
            " conv2d_16 (Conv2D)          (None, 249, 249, 32)      160       \n",
            "                                                                 \n",
            " max_pooling2d_12 (MaxPoolin  (None, 62, 62, 32)       0         \n",
            " g2D)                                                            \n",
            "                                                                 \n",
            " conv2d_17 (Conv2D)          (None, 60, 60, 64)        18496     \n",
            "                                                                 \n",
            " max_pooling2d_13 (MaxPoolin  (None, 20, 20, 64)       0         \n",
            " g2D)                                                            \n",
            "                                                                 \n",
            " dropout_20 (Dropout)        (None, 20, 20, 64)        0         \n",
            "                                                                 \n",
            " batch_normalization_9 (Batc  (None, 20, 20, 64)       256       \n",
            " hNormalization)                                                 \n",
            "                                                                 \n",
            " conv2d_18 (Conv2D)          (None, 20, 20, 64)        65600     \n",
            "                                                                 \n",
            " max_pooling2d_14 (MaxPoolin  (None, 10, 10, 64)       0         \n",
            " g2D)                                                            \n",
            "                                                                 \n",
            " dropout_21 (Dropout)        (None, 10, 10, 64)        0         \n",
            "                                                                 \n",
            " batch_normalization_10 (Bat  (None, 10, 10, 64)       256       \n",
            " chNormalization)                                                \n",
            "                                                                 \n",
            " conv2d_19 (Conv2D)          (None, 10, 10, 128)       32896     \n",
            "                                                                 \n",
            " dropout_22 (Dropout)        (None, 10, 10, 128)       0         \n",
            "                                                                 \n",
            " batch_normalization_11 (Bat  (None, 10, 10, 128)      512       \n",
            " chNormalization)                                                \n",
            "                                                                 \n",
            " flatten_4 (Flatten)         (None, 12800)             0         \n",
            "                                                                 \n",
            " dense_12 (Dense)            (None, 256)               3277056   \n",
            "                                                                 \n",
            " dropout_23 (Dropout)        (None, 256)               0         \n",
            "                                                                 \n",
            " dense_13 (Dense)            (None, 128)               32896     \n",
            "                                                                 \n",
            " dropout_24 (Dropout)        (None, 128)               0         \n",
            "                                                                 \n",
            " dense_14 (Dense)            (None, 9)                 1161      \n",
            "                                                                 \n",
            "=================================================================\n",
            "Total params: 3,429,289\n",
            "Trainable params: 3,428,777\n",
            "Non-trainable params: 512\n",
            "_________________________________________________________________\n"
          ]
        }
      ]
    },
    {
      "cell_type": "code",
      "source": [
        "model_imp.compile(optimizer=\"adam\", loss=tf.keras.losses.SparseCategoricalCrossentropy(), metrics=['accuracy'])"
      ],
      "metadata": {
        "id": "5QWWyY8Z38n2"
      },
      "execution_count": null,
      "outputs": []
    },
    {
      "cell_type": "code",
      "source": [
        "history_imp = model_imp.fit(train_data, validation_data = val_data, callbacks = callbacks, epochs=50)"
      ],
      "metadata": {
        "colab": {
          "base_uri": "https://localhost:8080/"
        },
        "id": "gBgy7MvP3_JF",
        "outputId": "b682a53e-fa1f-4916-c143-8887cdf2d17e"
      },
      "execution_count": null,
      "outputs": [
        {
          "output_type": "stream",
          "name": "stdout",
          "text": [
            "Epoch 1/50\n",
            "73/73 [==============================] - 5s 55ms/step - loss: 1.5187 - accuracy: 0.5090 - val_loss: 0.7807 - val_accuracy: 0.7556\n",
            "Epoch 2/50\n",
            "73/73 [==============================] - 3s 42ms/step - loss: 0.9588 - accuracy: 0.6579 - val_loss: 0.6182 - val_accuracy: 0.7676\n",
            "Epoch 3/50\n",
            "73/73 [==============================] - 3s 41ms/step - loss: 0.8077 - accuracy: 0.7177 - val_loss: 0.5403 - val_accuracy: 0.7917\n",
            "Epoch 4/50\n",
            "73/73 [==============================] - 3s 41ms/step - loss: 0.6889 - accuracy: 0.7466 - val_loss: 0.5292 - val_accuracy: 0.7952\n",
            "Epoch 5/50\n",
            "73/73 [==============================] - 3s 41ms/step - loss: 0.6134 - accuracy: 0.7793 - val_loss: 0.5615 - val_accuracy: 0.7831\n",
            "Epoch 6/50\n",
            "73/73 [==============================] - 3s 41ms/step - loss: 0.5700 - accuracy: 0.7960 - val_loss: 0.4680 - val_accuracy: 0.8055\n",
            "Epoch 7/50\n",
            "73/73 [==============================] - 3s 42ms/step - loss: 0.5296 - accuracy: 0.8223 - val_loss: 0.4781 - val_accuracy: 0.8003\n",
            "Epoch 8/50\n",
            "73/73 [==============================] - 3s 41ms/step - loss: 0.5004 - accuracy: 0.8275 - val_loss: 0.4009 - val_accuracy: 0.8503\n",
            "Epoch 9/50\n",
            "73/73 [==============================] - 3s 41ms/step - loss: 0.4669 - accuracy: 0.8472 - val_loss: 0.3867 - val_accuracy: 0.8640\n",
            "Epoch 10/50\n",
            "73/73 [==============================] - 3s 41ms/step - loss: 0.4483 - accuracy: 0.8361 - val_loss: 0.3979 - val_accuracy: 0.8434\n",
            "Epoch 11/50\n",
            "73/73 [==============================] - 3s 41ms/step - loss: 0.4382 - accuracy: 0.8404 - val_loss: 0.4522 - val_accuracy: 0.8313\n",
            "Epoch 12/50\n",
            "73/73 [==============================] - 3s 41ms/step - loss: 0.3801 - accuracy: 0.8705 - val_loss: 0.4458 - val_accuracy: 0.8382\n",
            "Epoch 12: early stopping\n"
          ]
        }
      ]
    },
    {
      "cell_type": "code",
      "source": [
        "fig, axs = plt.subplots(2,1)\n",
        "axs[0].plot(range(12),history_imp.history['loss'],label='train loss')\n",
        "axs[0].plot(range(12),history_imp.history['val_loss'],label='val loss')\n",
        "axs[0].set_xlabel('Epoch')\n",
        "axs[0].set_ylabel('Loss')\n",
        "\n",
        "axs[1].plot(range(12),history_imp.history['accuracy'],label='train acc')\n",
        "axs[1].plot(range(12),history_imp.history['val_accuracy'],label='val acc')\n",
        "axs[1].set_xlabel('Epoch')\n",
        "axs[1].set_ylabel('Accuracy')\n",
        "plt.show()"
      ],
      "metadata": {
        "colab": {
          "base_uri": "https://localhost:8080/",
          "height": 279
        },
        "id": "isW7MzdR4YE-",
        "outputId": "310cfa94-e2bf-4203-e516-e1a3ae91186f"
      },
      "execution_count": null,
      "outputs": [
        {
          "output_type": "display_data",
          "data": {
            "text/plain": [
              "<Figure size 432x288 with 2 Axes>"
            ],
            "image/png": "[encoded data removed]"
          },
          "metadata": {
            "needs_background": "light"
          }
        }
      ]
    },
    {
      "cell_type": "markdown",
      "source": [
        "## Model Saving"
      ],
      "metadata": {
        "id": "NQVGQ3_g3VRI"
      }
    },
    {
      "cell_type": "code",
      "source": [
        "model.save(\"my_model.h5\")\n",
        "model_imp.save(\"my_model_imp.h5\")"
      ],
      "metadata": {
        "id": "o-i57EBpxUCa"
      },
      "execution_count": null,
      "outputs": []
    },
    {
      "cell_type": "code",
      "source": [
        "# model.save(\"final\")"
      ],
      "metadata": {
        "id": "yPDtCQSR_8Al"
      },
      "execution_count": null,
      "outputs": []
    },
    {
      "cell_type": "markdown",
      "source": [
        "## MODEL LOADING"
      ],
      "metadata": {
        "id": "YeXH00HLKYuP"
      }
    },
    {
      "cell_type": "code",
      "source": [
        "new_model_loading.summary()"
      ],
      "metadata": {
        "colab": {
          "base_uri": "https://localhost:8080/"
        },
        "id": "so3QRbtJFcRe",
        "outputId": "96dfe245-df6b-4964-a8fd-abd75faa8201"
      },
      "execution_count": null,
      "outputs": [
        {
          "output_type": "stream",
          "name": "stdout",
          "text": [
            "Model: \"sequential_5\"\n",
            "_________________________________________________________________\n",
            " Layer (type)                Output Shape              Param #   \n",
            "=================================================================\n",
            " conv2d_20 (Conv2D)          (None, 249, 249, 32)      160       \n",
            "                                                                 \n",
            " max_pooling2d_15 (MaxPoolin  (None, 62, 62, 32)       0         \n",
            " g2D)                                                            \n",
            "                                                                 \n",
            " conv2d_21 (Conv2D)          (None, 60, 60, 64)        18496     \n",
            "                                                                 \n",
            " max_pooling2d_16 (MaxPoolin  (None, 20, 20, 64)       0         \n",
            " g2D)                                                            \n",
            "                                                                 \n",
            " dropout_25 (Dropout)        (None, 20, 20, 64)        0         \n",
            "                                                                 \n",
            " batch_normalization_12 (Bat  (None, 20, 20, 64)       256       \n",
            " chNormalization)                                                \n",
            "                                                                 \n",
            " conv2d_22 (Conv2D)          (None, 20, 20, 64)        65600     \n",
            "                                                                 \n",
            " max_pooling2d_17 (MaxPoolin  (None, 10, 10, 64)       0         \n",
            " g2D)                                                            \n",
            "                                                                 \n",
            " dropout_26 (Dropout)        (None, 10, 10, 64)        0         \n",
            "                                                                 \n",
            " batch_normalization_13 (Bat  (None, 10, 10, 64)       256       \n",
            " chNormalization)                                                \n",
            "                                                                 \n",
            " conv2d_23 (Conv2D)          (None, 10, 10, 128)       32896     \n",
            "                                                                 \n",
            " dropout_27 (Dropout)        (None, 10, 10, 128)       0         \n",
            "                                                                 \n",
            " batch_normalization_14 (Bat  (None, 10, 10, 128)      512       \n",
            " chNormalization)                                                \n",
            "                                                                 \n",
            " flatten_5 (Flatten)         (None, 12800)             0         \n",
            "                                                                 \n",
            " dense_15 (Dense)            (None, 256)               3277056   \n",
            "                                                                 \n",
            " dropout_28 (Dropout)        (None, 256)               0         \n",
            "                                                                 \n",
            " dense_16 (Dense)            (None, 128)               32896     \n",
            "                                                                 \n",
            " dropout_29 (Dropout)        (None, 128)               0         \n",
            "                                                                 \n",
            " dense_17 (Dense)            (None, 9)                 1161      \n",
            "                                                                 \n",
            "=================================================================\n",
            "Total params: 3,429,289\n",
            "Trainable params: 0\n",
            "Non-trainable params: 3,429,289\n",
            "_________________________________________________________________\n"
          ]
        }
      ]
    },
    {
      "cell_type": "code",
      "source": [
        "new_model_loading = tf.keras.models.load_model('my_model_imp.h5')"
      ],
      "metadata": {
        "id": "Di0RLgwAKW_o"
      },
      "execution_count": null,
      "outputs": []
    },
    {
      "cell_type": "code",
      "source": [
        "new_model_loading.save(\"final\")"
      ],
      "metadata": {
        "colab": {
          "base_uri": "https://localhost:8080/"
        },
        "id": "DkLyQx5fBrEY",
        "outputId": "637a7dcf-ec39-4419-ef49-873dbf9e8d4e"
      },
      "execution_count": null,
      "outputs": [
        {
          "output_type": "stream",
          "name": "stdout",
          "text": [
            "INFO:tensorflow:Assets written to: final/assets\n"
          ]
        }
      ]
    },
    {
      "cell_type": "markdown",
      "source": [
        "## Model Inference"
      ],
      "metadata": {
        "id": "GT3AGKjc3W8j"
      }
    },
    {
      "cell_type": "code",
      "source": [
        "prediction_dict = {0:'Apparel Set', 1:'Bottomwear', 2:'Dress', 3:'Flipflop', 4:'Innerwear', 5:'Sandal', 6:'Shoes', 7:'Socks', 8:'Topwear'}"
      ],
      "metadata": {
        "id": "Jj8BgTkdxscB"
      },
      "execution_count": null,
      "outputs": []
    },
    {
      "cell_type": "code",
      "source": [
        "from google.colab import files\n",
        "uploaded = files.upload()\n",
        "\n",
        "for fn in uploaded.keys():\n",
        "  path = fn\n",
        "  img = image.load_img(path, target_size=(img_height,img_width),grayscale=True) \n",
        "  plt.imshow(img)\n",
        "  plt.axis('Off')\n",
        "  plt.show()\n",
        "  x = image.img_to_array(img) \n",
        "  x = np.expand_dims(x, axis=0)\n",
        "\n",
        "  images = np.vstack([x])\n",
        "  #predictions = model_imp.predict(images)\n",
        "  predictions = new_model_loading.predict(images)\n",
        "  maxindex = int(np.argmax(predictions))\n",
        "  print(predictions[0][maxindex],prediction_dict[maxindex])"
      ],
      "metadata": {
        "colab": {
          "resources": {
            "http://localhost:8080/nbextensions/google.colab/files.js": {
              "data": "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",
              "ok": true,
              "headers": [
                [
                  "content-type",
                  "application/javascript"
                ]
              ],
              "status": 200,
              "status_text": ""
            }
          },
          "base_uri": "https://localhost:8080/",
          "height": 359
        },
        "id": "1wbV9M1myBrC",
        "outputId": "d9868129-c328-46b2-8dbe-39a791d4d3c9"
      },
      "execution_count": null,
      "outputs": [
        {
          "output_type": "display_data",
          "data": {
            "text/plain": [
              "<IPython.core.display.HTML object>"
            ],
            "text/html": [
              "\n",
              "     <input type=\"file\" id=\"files-879fac05-a2d1-4002-b044-820ec5c45b5d\" name=\"files[]\" multiple disabled\n",
              "        style=\"border:none\" />\n",
              "     <output id=\"result-879fac05-a2d1-4002-b044-820ec5c45b5d\">\n",
              "      Upload widget is only available when the cell has been executed in the\n",
              "      current browser session. Please rerun this cell to enable.\n",
              "      </output>\n",
              "      <script src=\"/nbextensions/google.colab/files.js\"></script> "
            ]
          },
          "metadata": {}
        },
        {
          "output_type": "stream",
          "name": "stdout",
          "text": [
            "Saving 2211.jpg to 2211 (3).jpg\n"
          ]
        },
        {
          "output_type": "stream",
          "name": "stderr",
          "text": [
            "/usr/local/lib/python3.7/dist-packages/keras_preprocessing/image/utils.py:107: UserWarning: grayscale is deprecated. Please use color_mode = \"grayscale\"\n",
            "  warnings.warn('grayscale is deprecated. Please use '\n"
          ]
        },
        {
          "output_type": "display_data",
          "data": {
            "text/plain": [
              "<Figure size 432x288 with 1 Axes>"
            ],
            "image/png": "[encoded data removed]"
          },
          "metadata": {
            "needs_background": "light"
          }
        },
        {
          "output_type": "stream",
          "name": "stdout",
          "text": [
            "0.5350145 Sandal\n"
          ]
        }
      ]
    }
  ]
}
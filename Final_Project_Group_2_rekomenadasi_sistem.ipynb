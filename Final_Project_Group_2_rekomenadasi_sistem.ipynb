{
 "cells": [
  {
   "cell_type": "markdown",
   "metadata": {},
   "source": [
    "# **1. PERKENALAN**"
   ]
  },
  {
   "cell_type": "markdown",
   "metadata": {},
   "source": [
    "Final Project Hacktive8 Bacth 011\n",
    "\n",
    "Kelompok        : 2\n",
    "\n",
    "Anggota         :\n",
    "\n",
    "- Al Izhar Iqrami\n",
    "- Irfan Fahmuddin Maru'f\n",
    "- Ridha Fuady\n",
    "- William Putra\n",
    "\n",
    "\n"
   ]
  },
  {
   "cell_type": "markdown",
   "metadata": {},
   "source": [
    "# **2. IMPORT LIBRARY**"
   ]
  },
  {
   "cell_type": "code",
   "execution_count": 3,
   "metadata": {},
   "outputs": [],
   "source": [
    "import pandas as pd\n",
    "import tensorflow as tf\n",
    "import matplotlib.pyplot as plt\n",
    "import numpy as np\n",
    "import urllib\n",
    "\n",
    "from tensorflow.keras.layers import Input, Embedding, Flatten, Dot, Dense\n",
    "from tensorflow.keras.models import Model\n",
    "from sklearn.model_selection import train_test_split\n",
    "from tensorflow.keras.layers import Dense\n",
    "from tensorflow.keras.layers import BatchNormalization\n",
    "from tensorflow.keras.layers import Dropout\n",
    "from tensorflow.keras.callbacks import EarlyStopping,ModelCheckpoint\n",
    "\n",
    "from PIL import Image\n",
    "from IPython.display import display, HTML"
   ]
  },
  {
   "cell_type": "markdown",
   "metadata": {},
   "source": [
    "# **3. DATA LOADING**"
   ]
  },
  {
   "cell_type": "code",
   "execution_count": 4,
   "metadata": {},
   "outputs": [],
   "source": [
    "cols = [0]\n",
    "df = pd.read_csv('fashion.csv')\n",
    "df.drop(df.columns[cols], axis=1,inplace=True)\n",
    "df2 = pd.read_csv('pake.csv')\n",
    "df2.drop(df2.columns[cols], axis=1,inplace=True)"
   ]
  },
  {
   "cell_type": "markdown",
   "metadata": {},
   "source": [
    "## Copy Dataset"
   ]
  },
  {
   "cell_type": "code",
   "execution_count": 5,
   "metadata": {},
   "outputs": [],
   "source": [
    "fashion = df.copy()\n",
    "ratings = df2.copy()"
   ]
  },
  {
   "cell_type": "code",
   "execution_count": 6,
   "metadata": {},
   "outputs": [
    {
     "data": {
      "text/html": [
       "<div>\n",
       "<style scoped>\n",
       "    .dataframe tbody tr th:only-of-type {\n",
       "        vertical-align: middle;\n",
       "    }\n",
       "\n",
       "    .dataframe tbody tr th {\n",
       "        vertical-align: top;\n",
       "    }\n",
       "\n",
       "    .dataframe thead th {\n",
       "        text-align: right;\n",
       "    }\n",
       "</style>\n",
       "<table border=\"1\" class=\"dataframe\">\n",
       "  <thead>\n",
       "    <tr style=\"text-align: right;\">\n",
       "      <th></th>\n",
       "      <th>ProductId</th>\n",
       "      <th>Gender</th>\n",
       "      <th>Category</th>\n",
       "      <th>SubCategory</th>\n",
       "      <th>ProductType</th>\n",
       "      <th>Colour</th>\n",
       "      <th>Usage</th>\n",
       "      <th>ProductTitle</th>\n",
       "      <th>Image</th>\n",
       "      <th>ImageURL</th>\n",
       "    </tr>\n",
       "  </thead>\n",
       "  <tbody>\n",
       "    <tr>\n",
       "      <th>0</th>\n",
       "      <td>1</td>\n",
       "      <td>Girls</td>\n",
       "      <td>Apparel</td>\n",
       "      <td>Topwear</td>\n",
       "      <td>Tops</td>\n",
       "      <td>White</td>\n",
       "      <td>Casual</td>\n",
       "      <td>Gini and Jony Girls Knit White Top</td>\n",
       "      <td>42419.jpg</td>\n",
       "      <td>http://assets.myntassets.com/v1/images/style/p...</td>\n",
       "    </tr>\n",
       "    <tr>\n",
       "      <th>1</th>\n",
       "      <td>2</td>\n",
       "      <td>Girls</td>\n",
       "      <td>Apparel</td>\n",
       "      <td>Topwear</td>\n",
       "      <td>Tops</td>\n",
       "      <td>Black</td>\n",
       "      <td>Casual</td>\n",
       "      <td>Gini and Jony Girls Black Top</td>\n",
       "      <td>34009.jpg</td>\n",
       "      <td>http://assets.myntassets.com/v1/images/style/p...</td>\n",
       "    </tr>\n",
       "    <tr>\n",
       "      <th>2</th>\n",
       "      <td>3</td>\n",
       "      <td>Girls</td>\n",
       "      <td>Apparel</td>\n",
       "      <td>Topwear</td>\n",
       "      <td>Tops</td>\n",
       "      <td>Blue</td>\n",
       "      <td>Casual</td>\n",
       "      <td>Gini and Jony Girls Pretty Blossom Blue Top</td>\n",
       "      <td>40143.jpg</td>\n",
       "      <td>http://assets.myntassets.com/v1/images/style/p...</td>\n",
       "    </tr>\n",
       "  </tbody>\n",
       "</table>\n",
       "</div>"
      ],
      "text/plain": [
       "   ProductId Gender Category SubCategory ProductType Colour   Usage  \\\n",
       "0          1  Girls  Apparel     Topwear        Tops  White  Casual   \n",
       "1          2  Girls  Apparel     Topwear        Tops  Black  Casual   \n",
       "2          3  Girls  Apparel     Topwear        Tops   Blue  Casual   \n",
       "\n",
       "                                  ProductTitle      Image  \\\n",
       "0           Gini and Jony Girls Knit White Top  42419.jpg   \n",
       "1                Gini and Jony Girls Black Top  34009.jpg   \n",
       "2  Gini and Jony Girls Pretty Blossom Blue Top  40143.jpg   \n",
       "\n",
       "                                            ImageURL  \n",
       "0  http://assets.myntassets.com/v1/images/style/p...  \n",
       "1  http://assets.myntassets.com/v1/images/style/p...  \n",
       "2  http://assets.myntassets.com/v1/images/style/p...  "
      ]
     },
     "execution_count": 6,
     "metadata": {},
     "output_type": "execute_result"
    }
   ],
   "source": [
    "fashion.head(3)"
   ]
  },
  {
   "cell_type": "code",
   "execution_count": 7,
   "metadata": {},
   "outputs": [
    {
     "data": {
      "text/html": [
       "<div>\n",
       "<style scoped>\n",
       "    .dataframe tbody tr th:only-of-type {\n",
       "        vertical-align: middle;\n",
       "    }\n",
       "\n",
       "    .dataframe tbody tr th {\n",
       "        vertical-align: top;\n",
       "    }\n",
       "\n",
       "    .dataframe thead th {\n",
       "        text-align: right;\n",
       "    }\n",
       "</style>\n",
       "<table border=\"1\" class=\"dataframe\">\n",
       "  <thead>\n",
       "    <tr style=\"text-align: right;\">\n",
       "      <th></th>\n",
       "      <th>user_id</th>\n",
       "      <th>ProductId</th>\n",
       "      <th>rating</th>\n",
       "    </tr>\n",
       "  </thead>\n",
       "  <tbody>\n",
       "    <tr>\n",
       "      <th>0</th>\n",
       "      <td>5641</td>\n",
       "      <td>1545</td>\n",
       "      <td>1</td>\n",
       "    </tr>\n",
       "    <tr>\n",
       "      <th>1</th>\n",
       "      <td>6937</td>\n",
       "      <td>2841</td>\n",
       "      <td>1</td>\n",
       "    </tr>\n",
       "    <tr>\n",
       "      <th>2</th>\n",
       "      <td>5956</td>\n",
       "      <td>1860</td>\n",
       "      <td>4</td>\n",
       "    </tr>\n",
       "  </tbody>\n",
       "</table>\n",
       "</div>"
      ],
      "text/plain": [
       "   user_id  ProductId  rating\n",
       "0     5641       1545       1\n",
       "1     6937       2841       1\n",
       "2     5956       1860       4"
      ]
     },
     "execution_count": 7,
     "metadata": {},
     "output_type": "execute_result"
    }
   ],
   "source": [
    "ratings.head(3)"
   ]
  },
  {
   "cell_type": "markdown",
   "metadata": {},
   "source": [
    "# **4. Exploratory Data Analysis**"
   ]
  },
  {
   "cell_type": "markdown",
   "metadata": {},
   "source": [
    "## Melihat Perbandingan Image"
   ]
  },
  {
   "cell_type": "code",
   "execution_count": 10,
   "metadata": {},
   "outputs": [
    {
     "name": "stdout",
     "output_type": "stream",
     "text": [
      "total row count:  2906\n"
     ]
    },
    {
     "data": {
      "text/html": [
       "<div>\n",
       "<style scoped>\n",
       "    .dataframe tbody tr th:only-of-type {\n",
       "        vertical-align: middle;\n",
       "    }\n",
       "\n",
       "    .dataframe tbody tr th {\n",
       "        vertical-align: top;\n",
       "    }\n",
       "\n",
       "    .dataframe thead th {\n",
       "        text-align: right;\n",
       "    }\n",
       "</style>\n",
       "<table border=\"1\" class=\"dataframe\">\n",
       "  <thead>\n",
       "    <tr style=\"text-align: right;\">\n",
       "      <th></th>\n",
       "      <th>filename</th>\n",
       "      <th>type</th>\n",
       "    </tr>\n",
       "  </thead>\n",
       "  <tbody>\n",
       "    <tr>\n",
       "      <th>0</th>\n",
       "      <td>42419.jpg</td>\n",
       "      <td>Topwear</td>\n",
       "    </tr>\n",
       "    <tr>\n",
       "      <th>1</th>\n",
       "      <td>34009.jpg</td>\n",
       "      <td>Topwear</td>\n",
       "    </tr>\n",
       "    <tr>\n",
       "      <th>2</th>\n",
       "      <td>40143.jpg</td>\n",
       "      <td>Topwear</td>\n",
       "    </tr>\n",
       "    <tr>\n",
       "      <th>3</th>\n",
       "      <td>23623.jpg</td>\n",
       "      <td>Topwear</td>\n",
       "    </tr>\n",
       "    <tr>\n",
       "      <th>4</th>\n",
       "      <td>47154.jpg</td>\n",
       "      <td>Bottomwear</td>\n",
       "    </tr>\n",
       "  </tbody>\n",
       "</table>\n",
       "</div>"
      ],
      "text/plain": [
       "    filename        type\n",
       "0  42419.jpg     Topwear\n",
       "1  34009.jpg     Topwear\n",
       "2  40143.jpg     Topwear\n",
       "3  23623.jpg     Topwear\n",
       "4  47154.jpg  Bottomwear"
      ]
     },
     "execution_count": 10,
     "metadata": {},
     "output_type": "execute_result"
    }
   ],
   "source": [
    "augmentedDataframe = pd.DataFrame({\n",
    "    'filename': fashion['Image'],\n",
    "    'type': fashion['SubCategory']\n",
    "})\n",
    "\n",
    "# total number of entries in the dataframe\n",
    "total_row = len(augmentedDataframe)\n",
    "print('total row count: ', total_row)\n",
    "\n",
    "augmentedDataframe.head(5)"
   ]
  },
  {
   "cell_type": "code",
   "execution_count": 14,
   "metadata": {},
   "outputs": [
    {
     "data": {
      "image/png": "[encoded data removed]",
      "text/plain": [
       "<Figure size 1440x360 with 1 Axes>"
      ]
     },
     "metadata": {
      "needs_background": "light"
     },
     "output_type": "display_data"
    }
   ],
   "source": [
    "plt.figure(figsize=(20,5))\n",
    "augmentedDataframe['type'].value_counts().plot(kind='bar',x='type',y='filename')\n",
    "plt.title('Category')\n",
    "plt.show()"
   ]
  },
  {
   "cell_type": "markdown",
   "metadata": {},
   "source": [
    "## Check Persentase Data Berdasarkan Jenis Fashion"
   ]
  },
  {
   "cell_type": "code",
   "execution_count": 45,
   "metadata": {},
   "outputs": [
    {
     "data": {
      "image/png": "[encoded data removed]",
      "text/plain": [
       "<Figure size 864x360 with 2 Axes>"
      ]
     },
     "metadata": {
      "needs_background": "light"
     },
     "output_type": "display_data"
    }
   ],
   "source": [
    "fig, axs = plt.subplots(ncols=2, figsize=(12,5))\n",
    "fashion['Gender'].value_counts().plot.pie(autopct='%1.1f%%', startangle = 90, ax=axs[0])\n",
    "fashion['Gender'].value_counts().plot(kind='bar', ax=axs[1])\n",
    "plt.title('Type')\n",
    "plt.xticks(rotation = 0)\n",
    "plt.show()"
   ]
  },
  {
   "cell_type": "markdown",
   "metadata": {},
   "source": [
    "# **5. PREPROCESSING**"
   ]
  },
  {
   "cell_type": "code",
   "execution_count": 40,
   "metadata": {},
   "outputs": [
    {
     "data": {
      "text/plain": [
       "0"
      ]
     },
     "execution_count": 40,
     "metadata": {},
     "output_type": "execute_result"
    }
   ],
   "source": [
    "fashion.duplicated().sum()"
   ]
  },
  {
   "cell_type": "markdown",
   "metadata": {},
   "source": [
    "## Check Missing Value"
   ]
  },
  {
   "cell_type": "code",
   "execution_count": 41,
   "metadata": {},
   "outputs": [
    {
     "data": {
      "text/html": [
       "<div>\n",
       "<style scoped>\n",
       "    .dataframe tbody tr th:only-of-type {\n",
       "        vertical-align: middle;\n",
       "    }\n",
       "\n",
       "    .dataframe tbody tr th {\n",
       "        vertical-align: top;\n",
       "    }\n",
       "\n",
       "    .dataframe thead th {\n",
       "        text-align: right;\n",
       "    }\n",
       "</style>\n",
       "<table border=\"1\" class=\"dataframe\">\n",
       "  <thead>\n",
       "    <tr style=\"text-align: right;\">\n",
       "      <th></th>\n",
       "      <th>No. of missing values</th>\n",
       "      <th>% missing_values</th>\n",
       "    </tr>\n",
       "  </thead>\n",
       "  <tbody>\n",
       "    <tr>\n",
       "      <th>ProductId</th>\n",
       "      <td>0</td>\n",
       "      <td>0.0</td>\n",
       "    </tr>\n",
       "    <tr>\n",
       "      <th>Gender</th>\n",
       "      <td>0</td>\n",
       "      <td>0.0</td>\n",
       "    </tr>\n",
       "    <tr>\n",
       "      <th>Category</th>\n",
       "      <td>0</td>\n",
       "      <td>0.0</td>\n",
       "    </tr>\n",
       "    <tr>\n",
       "      <th>SubCategory</th>\n",
       "      <td>0</td>\n",
       "      <td>0.0</td>\n",
       "    </tr>\n",
       "    <tr>\n",
       "      <th>ProductType</th>\n",
       "      <td>0</td>\n",
       "      <td>0.0</td>\n",
       "    </tr>\n",
       "    <tr>\n",
       "      <th>Colour</th>\n",
       "      <td>0</td>\n",
       "      <td>0.0</td>\n",
       "    </tr>\n",
       "    <tr>\n",
       "      <th>Usage</th>\n",
       "      <td>0</td>\n",
       "      <td>0.0</td>\n",
       "    </tr>\n",
       "    <tr>\n",
       "      <th>ProductTitle</th>\n",
       "      <td>0</td>\n",
       "      <td>0.0</td>\n",
       "    </tr>\n",
       "    <tr>\n",
       "      <th>Image</th>\n",
       "      <td>0</td>\n",
       "      <td>0.0</td>\n",
       "    </tr>\n",
       "    <tr>\n",
       "      <th>ImageURL</th>\n",
       "      <td>0</td>\n",
       "      <td>0.0</td>\n",
       "    </tr>\n",
       "  </tbody>\n",
       "</table>\n",
       "</div>"
      ],
      "text/plain": [
       "              No. of missing values  % missing_values\n",
       "ProductId                         0               0.0\n",
       "Gender                            0               0.0\n",
       "Category                          0               0.0\n",
       "SubCategory                       0               0.0\n",
       "ProductType                       0               0.0\n",
       "Colour                            0               0.0\n",
       "Usage                             0               0.0\n",
       "ProductTitle                      0               0.0\n",
       "Image                             0               0.0\n",
       "ImageURL                          0               0.0"
      ]
     },
     "execution_count": 41,
     "metadata": {},
     "output_type": "execute_result"
    }
   ],
   "source": [
    "cek = pd.DataFrame(fashion.isnull().sum(), columns=['No. of missing values'])\n",
    "cek['% missing_values'] = (cek/len(fashion)).round(2)*100\n",
    "cek"
   ]
  },
  {
   "cell_type": "markdown",
   "metadata": {},
   "source": [
    "## Split Train & Val"
   ]
  },
  {
   "cell_type": "code",
   "execution_count": 15,
   "metadata": {},
   "outputs": [],
   "source": [
    "train, val = train_test_split(ratings, test_size=0.1,random_state=42)\n",
    "\n",
    "dim_product =ratings.ProductId.max()+1\n",
    "dim_users =ratings.user_id.max()+1"
   ]
  },
  {
   "cell_type": "code",
   "execution_count": 16,
   "metadata": {},
   "outputs": [],
   "source": [
    "y_train = (train.rating - ratings.rating.min()) / (ratings.rating.max() - ratings.rating.min())\n",
    "y_val = (val.rating - ratings.rating.min()) / (ratings.rating.max() - ratings.rating.min())"
   ]
  },
  {
   "cell_type": "markdown",
   "metadata": {},
   "source": [
    "## Model Definition"
   ]
  },
  {
   "cell_type": "code",
   "execution_count": 17,
   "metadata": {},
   "outputs": [],
   "source": [
    "# Layers Embeding for Book\n",
    "fashion_input = Input(shape=(1,), name=\"Book-Input\")    # Input layer\n",
    "fashion_embedding = Embedding(dim_product, 50, embeddings_initializer=\"he_normal\",\n",
    "            embeddings_regularizer=tf.keras.regularizers.l2(1e-6), name=\"Fashion-Embedding\")(fashion_input)\n",
    "fashion_vec = Flatten(name=\"Flatten-Books\")(fashion_embedding)\n",
    "\n",
    "# Layers Embeding for User\n",
    "user_input = Input(shape=(1,), name=\"User-Input\")       # Input layer\n",
    "user_embedding = Embedding(dim_users, 50, embeddings_initializer=\"he_normal\",\n",
    "            embeddings_regularizer=tf.keras.regularizers.l2(1e-6), name=\"User-Embedding\")(user_input)\n",
    "user_vec = Flatten(name=\"Flatten-Users\")(user_embedding)\n",
    "\n",
    "# Dot Product\n",
    "prod = Dot(name=\"Dot-Product\", axes=1)([fashion_vec, user_vec])"
   ]
  },
  {
   "cell_type": "markdown",
   "metadata": {},
   "source": [
    "## Evaluation Training"
   ]
  },
  {
   "cell_type": "code",
   "execution_count": 18,
   "metadata": {},
   "outputs": [
    {
     "name": "stdout",
     "output_type": "stream",
     "text": [
      "Model: \"model\"\n",
      "__________________________________________________________________________________________________\n",
      " Layer (type)                   Output Shape         Param #     Connected to                     \n",
      "==================================================================================================\n",
      " Book-Input (InputLayer)        [(None, 1)]          0           []                               \n",
      "                                                                                                  \n",
      " User-Input (InputLayer)        [(None, 1)]          0           []                               \n",
      "                                                                                                  \n",
      " Fashion-Embedding (Embedding)  (None, 1, 50)        145350      ['Book-Input[0][0]']             \n",
      "                                                                                                  \n",
      " User-Embedding (Embedding)     (None, 1, 50)        400050      ['User-Input[0][0]']             \n",
      "                                                                                                  \n",
      " Flatten-Books (Flatten)        (None, 50)           0           ['Fashion-Embedding[0][0]']      \n",
      "                                                                                                  \n",
      " Flatten-Users (Flatten)        (None, 50)           0           ['User-Embedding[0][0]']         \n",
      "                                                                                                  \n",
      " Dot-Product (Dot)              (None, 1)            0           ['Flatten-Books[0][0]',          \n",
      "                                                                  'Flatten-Users[0][0]']          \n",
      "                                                                                                  \n",
      " dense (Dense)                  (None, 1)            2           ['Dot-Product[0][0]']            \n",
      "                                                                                                  \n",
      "==================================================================================================\n",
      "Total params: 545,402\n",
      "Trainable params: 545,402\n",
      "Non-trainable params: 0\n",
      "__________________________________________________________________________________________________\n"
     ]
    }
   ],
   "source": [
    "dense = Dense(1,activation='relu')(prod)\n",
    "\n",
    "model_1 = Model([user_input, fashion_input], dense)          # Urutan tidak boleh terbalik harus user_input kemudian book_input, boleh terbalik yang penting konsisten dengan codingan sebelumnya\n",
    "model_1.compile(loss='mean_squared_error',optimizer='adam', metrics=['accuracy'])\n",
    "\n",
    "model_1.summary()"
   ]
  },
  {
   "cell_type": "code",
   "execution_count": 19,
   "metadata": {},
   "outputs": [
    {
     "name": "stdout",
     "output_type": "stream",
     "text": [
      "Epoch 1/30\n",
      "940/940 [==============================] - 6s 6ms/step - loss: 0.1802 - accuracy: 0.2015 - val_loss: 0.1245 - val_accuracy: 0.2057\n",
      "Epoch 2/30\n",
      "940/940 [==============================] - 5s 6ms/step - loss: 0.1010 - accuracy: 0.3686 - val_loss: 0.1342 - val_accuracy: 0.1993\n",
      "Epoch 3/30\n",
      "940/940 [==============================] - 5s 5ms/step - loss: 0.0186 - accuracy: 0.4027 - val_loss: 0.1448 - val_accuracy: 0.1984\n",
      "Epoch 4/30\n",
      "940/940 [==============================] - 5s 6ms/step - loss: 0.0068 - accuracy: 0.4029 - val_loss: 0.1431 - val_accuracy: 0.1979\n",
      "Epoch 5/30\n",
      "940/940 [==============================] - 5s 5ms/step - loss: 0.0065 - accuracy: 0.4029 - val_loss: 0.1440 - val_accuracy: 0.2008\n",
      "Epoch 6/30\n",
      "940/940 [==============================] - 5s 5ms/step - loss: 0.0087 - accuracy: 0.4028 - val_loss: 0.1441 - val_accuracy: 0.1978\n",
      "Epoch 7/30\n",
      "940/940 [==============================] - 5s 5ms/step - loss: 0.0116 - accuracy: 0.4028 - val_loss: 0.1434 - val_accuracy: 0.1994\n",
      "Epoch 8/30\n",
      "940/940 [==============================] - 5s 5ms/step - loss: 0.0104 - accuracy: 0.4029 - val_loss: 0.1429 - val_accuracy: 0.1997\n",
      "Epoch 9/30\n",
      "940/940 [==============================] - 5s 5ms/step - loss: 0.0084 - accuracy: 0.4029 - val_loss: 0.1421 - val_accuracy: 0.2002\n",
      "Epoch 10/30\n",
      "940/940 [==============================] - 5s 5ms/step - loss: 0.0080 - accuracy: 0.4028 - val_loss: 0.1424 - val_accuracy: 0.1990\n",
      "Epoch 11/30\n",
      "940/940 [==============================] - 5s 5ms/step - loss: 0.0089 - accuracy: 0.4029 - val_loss: 0.1428 - val_accuracy: 0.2002\n",
      "Epoch 12/30\n",
      "940/940 [==============================] - 6s 6ms/step - loss: 0.0096 - accuracy: 0.4029 - val_loss: 0.1425 - val_accuracy: 0.2021\n",
      "Epoch 13/30\n",
      "940/940 [==============================] - 6s 6ms/step - loss: 0.0092 - accuracy: 0.4029 - val_loss: 0.1419 - val_accuracy: 0.1964\n",
      "Epoch 14/30\n",
      "940/940 [==============================] - 7s 7ms/step - loss: 0.0085 - accuracy: 0.4029 - val_loss: 0.1418 - val_accuracy: 0.1993\n",
      "Epoch 15/30\n",
      "940/940 [==============================] - 6s 7ms/step - loss: 0.0085 - accuracy: 0.4029 - val_loss: 0.1422 - val_accuracy: 0.2002\n",
      "Epoch 16/30\n",
      "940/940 [==============================] - 6s 6ms/step - loss: 0.0088 - accuracy: 0.4029 - val_loss: 0.1419 - val_accuracy: 0.1987\n",
      "Epoch 17/30\n",
      "940/940 [==============================] - 6s 7ms/step - loss: 0.0090 - accuracy: 0.4028 - val_loss: 0.1417 - val_accuracy: 0.2011\n",
      "Epoch 18/30\n",
      "940/940 [==============================] - 6s 6ms/step - loss: 0.0088 - accuracy: 0.4028 - val_loss: 0.1422 - val_accuracy: 0.1991\n",
      "Epoch 19/30\n",
      "940/940 [==============================] - 6s 6ms/step - loss: 0.0086 - accuracy: 0.4029 - val_loss: 0.1417 - val_accuracy: 0.1978\n",
      "Epoch 20/30\n",
      "940/940 [==============================] - 6s 6ms/step - loss: 0.0086 - accuracy: 0.4029 - val_loss: 0.1420 - val_accuracy: 0.2003\n",
      "Epoch 21/30\n",
      "940/940 [==============================] - 6s 6ms/step - loss: 0.0087 - accuracy: 0.4028 - val_loss: 0.1417 - val_accuracy: 0.2008\n",
      "Epoch 22/30\n",
      "940/940 [==============================] - 6s 6ms/step - loss: 0.0087 - accuracy: 0.4029 - val_loss: 0.1414 - val_accuracy: 0.2003\n",
      "Epoch 23/30\n",
      "940/940 [==============================] - 6s 6ms/step - loss: 0.0086 - accuracy: 0.4028 - val_loss: 0.1415 - val_accuracy: 0.1978\n",
      "Epoch 24/30\n",
      "940/940 [==============================] - 6s 6ms/step - loss: 0.0086 - accuracy: 0.4029 - val_loss: 0.1415 - val_accuracy: 0.1994\n",
      "Epoch 25/30\n",
      "940/940 [==============================] - 6s 6ms/step - loss: 0.0085 - accuracy: 0.4029 - val_loss: 0.1416 - val_accuracy: 0.1967\n",
      "Epoch 26/30\n",
      "940/940 [==============================] - 6s 6ms/step - loss: 0.0086 - accuracy: 0.4029 - val_loss: 0.1414 - val_accuracy: 0.1960\n",
      "Epoch 27/30\n",
      "940/940 [==============================] - 6s 6ms/step - loss: 0.0085 - accuracy: 0.4028 - val_loss: 0.1415 - val_accuracy: 0.2002\n",
      "Epoch 28/30\n",
      "940/940 [==============================] - 6s 6ms/step - loss: 0.0085 - accuracy: 0.4029 - val_loss: 0.1410 - val_accuracy: 0.2000\n",
      "Epoch 29/30\n",
      "940/940 [==============================] - 7s 8ms/step - loss: 0.0085 - accuracy: 0.4028 - val_loss: 0.1417 - val_accuracy: 0.1984\n",
      "Epoch 30/30\n",
      "940/940 [==============================] - 6s 6ms/step - loss: 0.0085 - accuracy: 0.4029 - val_loss: 0.1410 - val_accuracy: 0.1952\n"
     ]
    }
   ],
   "source": [
    "history_1 = model_1.fit(x=[train.user_id.values,train.ProductId.values], \n",
    "                    y=y_train.values, \n",
    "                    batch_size=64, \n",
    "                    epochs=30, \n",
    "                    verbose=1, \n",
    "                    validation_data=([val.user_id.values,val.ProductId.values], y_val.values))"
   ]
  },
  {
   "cell_type": "code",
   "execution_count": 20,
   "metadata": {},
   "outputs": [
    {
     "data": {
      "image/png": "[encoded data removed]",
      "text/plain": [
       "<Figure size 432x288 with 1 Axes>"
      ]
     },
     "metadata": {
      "needs_background": "light"
     },
     "output_type": "display_data"
    }
   ],
   "source": [
    "plt.plot(history_1.history[\"loss\"])\n",
    "plt.plot(history_1.history[\"val_loss\"])\n",
    "plt.title(\"Model Loss Improvement 1\")\n",
    "plt.ylabel(\"loss\")\n",
    "plt.xlabel(\"epoch\")\n",
    "plt.legend([\"train\", \"test\"], loc=\"upper left\")\n",
    "plt.show()"
   ]
  },
  {
   "cell_type": "markdown",
   "metadata": {},
   "source": [
    "# **6. MODEL IMPROFEMENT** "
   ]
  },
  {
   "cell_type": "markdown",
   "metadata": {},
   "source": [
    "## Improvement 1"
   ]
  },
  {
   "cell_type": "code",
   "execution_count": 21,
   "metadata": {},
   "outputs": [],
   "source": [
    "callbacks= [\n",
    "            EarlyStopping(monitor= 'val_loss', mode='min', patience= 3, verbose=1),\n",
    "            ModelCheckpoint('model_best.hdf5', monitor='val_loss', save_best_only= True)]\n",
    "\n",
    "normalizer = tf.keras.layers.Normalization(axis=-1)\n",
    "normalizer.adapt(train)"
   ]
  },
  {
   "cell_type": "code",
   "execution_count": 22,
   "metadata": {},
   "outputs": [],
   "source": [
    "# Layers Embeding for Book\n",
    "fashion_input2 = Input(shape=(1,), name=\"Book-Input\")    # Input layer\n",
    "fashion_embedding2 = Embedding(dim_product, 50, embeddings_initializer=\"he_normal\",\n",
    "            embeddings_regularizer=tf.keras.regularizers.l2(1e-6), name=\"Fashion-Embedding\")(fashion_input2)\n",
    "fashion_vec2 = Flatten(name=\"Flatten-Books\")(fashion_embedding2)\n",
    "\n",
    "# Layers Embeding for User\n",
    "user_input2 = Input(shape=(1,), name=\"User-Input\")       # Input layer\n",
    "user_embedding2 = Embedding(dim_users, 50, embeddings_initializer=\"he_normal\",\n",
    "            embeddings_regularizer=tf.keras.regularizers.l2(1e-6), name=\"User-Embedding\")(user_input2)\n",
    "user_vec2 = Flatten(name=\"Flatten-Users\")(user_embedding2)\n",
    "\n",
    "# Dot Product\n",
    "prod2 = Dot(name=\"Dot-Product\", axes=1)([fashion_vec2, user_vec2])"
   ]
  },
  {
   "cell_type": "code",
   "execution_count": 23,
   "metadata": {},
   "outputs": [
    {
     "name": "stdout",
     "output_type": "stream",
     "text": [
      "Model: \"model_1\"\n",
      "__________________________________________________________________________________________________\n",
      " Layer (type)                   Output Shape         Param #     Connected to                     \n",
      "==================================================================================================\n",
      " Book-Input (InputLayer)        [(None, 1)]          0           []                               \n",
      "                                                                                                  \n",
      " User-Input (InputLayer)        [(None, 1)]          0           []                               \n",
      "                                                                                                  \n",
      " Fashion-Embedding (Embedding)  (None, 1, 50)        145350      ['Book-Input[0][0]']             \n",
      "                                                                                                  \n",
      " User-Embedding (Embedding)     (None, 1, 50)        400050      ['User-Input[0][0]']             \n",
      "                                                                                                  \n",
      " Flatten-Books (Flatten)        (None, 50)           0           ['Fashion-Embedding[0][0]']      \n",
      "                                                                                                  \n",
      " Flatten-Users (Flatten)        (None, 50)           0           ['User-Embedding[0][0]']         \n",
      "                                                                                                  \n",
      " Dot-Product (Dot)              (None, 1)            0           ['Flatten-Books[0][0]',          \n",
      "                                                                  'Flatten-Users[0][0]']          \n",
      "                                                                                                  \n",
      " dense_1 (Dense)                (None, 128)          256         ['Dot-Product[0][0]']            \n",
      "                                                                                                  \n",
      " batch_normalization (BatchNorm  (None, 128)         512         ['dense_1[0][0]']                \n",
      " alization)                                                                                       \n",
      "                                                                                                  \n",
      " dropout (Dropout)              (None, 128)          0           ['batch_normalization[0][0]']    \n",
      "                                                                                                  \n",
      " dense_2 (Dense)                (None, 32)           4128        ['dropout[0][0]']                \n",
      "                                                                                                  \n",
      " batch_normalization_1 (BatchNo  (None, 32)          128         ['dense_2[0][0]']                \n",
      " rmalization)                                                                                     \n",
      "                                                                                                  \n",
      " dense_3 (Dense)                (None, 1)            33          ['batch_normalization_1[0][0]']  \n",
      "                                                                                                  \n",
      "==================================================================================================\n",
      "Total params: 550,457\n",
      "Trainable params: 550,137\n",
      "Non-trainable params: 320\n",
      "__________________________________________________________________________________________________\n"
     ]
    }
   ],
   "source": [
    "prod2 = Dot(name=\"Dot-Product\", axes=1, normalize = True)([fashion_vec2, user_vec2])\n",
    "\n",
    "hidden5 = Dense(128, activation='relu')(prod2)\n",
    "hidden6 = BatchNormalization()(hidden5)\n",
    "hidden7 = Dropout(rate=0.1)(hidden6)\n",
    "hidden8 = Dense(32, activation='relu')(hidden7)\n",
    "hidden9 = BatchNormalization()(hidden8)\n",
    "\n",
    "output = Dense(1, activation='relu')(hidden9)\n",
    "model_imp2 = Model([user_input2, fashion_input2], output) \n",
    "model_imp2.compile(loss='mean_squared_error',optimizer='adam', metrics=['accuracy'])\n",
    "\n",
    "model_imp2.summary()"
   ]
  },
  {
   "cell_type": "code",
   "execution_count": 24,
   "metadata": {},
   "outputs": [
    {
     "name": "stdout",
     "output_type": "stream",
     "text": [
      "Epoch 1/20\n",
      "940/940 [==============================] - 7s 6ms/step - loss: 0.1578 - accuracy: 0.2018 - val_loss: 0.1264 - val_accuracy: 0.1982\n",
      "Epoch 2/20\n",
      "940/940 [==============================] - 6s 7ms/step - loss: 0.1297 - accuracy: 0.2019 - val_loss: 0.1252 - val_accuracy: 0.2063\n",
      "Epoch 3/20\n",
      "940/940 [==============================] - 7s 7ms/step - loss: 0.1277 - accuracy: 0.2120 - val_loss: 0.1372 - val_accuracy: 0.1905\n",
      "Epoch 4/20\n",
      "940/940 [==============================] - 7s 7ms/step - loss: 0.1224 - accuracy: 0.2433 - val_loss: 0.1402 - val_accuracy: 0.1923\n",
      "Epoch 5/20\n",
      "940/940 [==============================] - 7s 7ms/step - loss: 0.1114 - accuracy: 0.2741 - val_loss: 0.1344 - val_accuracy: 0.1934\n",
      "Epoch 5: early stopping\n"
     ]
    }
   ],
   "source": [
    "history_imp2 = model_imp2.fit(x=[train.user_id.values,train.ProductId.values], \n",
    "                    y=y_train.values, \n",
    "                    batch_size=64, \n",
    "                    epochs=20, \n",
    "                    verbose=1, \n",
    "                    callbacks=callbacks,\n",
    "                    validation_data=([val.user_id.values,val.ProductId.values], y_val.values))\n"
   ]
  },
  {
   "cell_type": "code",
   "execution_count": 26,
   "metadata": {},
   "outputs": [
    {
     "data": {
      "image/png": "[encoded data removed]",
      "text/plain": [
       "<Figure size 432x288 with 1 Axes>"
      ]
     },
     "metadata": {
      "needs_background": "light"
     },
     "output_type": "display_data"
    }
   ],
   "source": [
    "plt.plot(history_imp2.history[\"loss\"])\n",
    "plt.plot(history_imp2.history[\"val_loss\"])\n",
    "plt.title(\"Model Loss Improvement 1\")\n",
    "plt.ylabel(\"loss\")\n",
    "plt.xlabel(\"epoch\")\n",
    "plt.legend([\"train\", \"test\"], loc=\"upper left\")\n",
    "plt.show()"
   ]
  },
  {
   "cell_type": "markdown",
   "metadata": {},
   "source": [
    "## Improvement 2"
   ]
  },
  {
   "cell_type": "code",
   "execution_count": 27,
   "metadata": {},
   "outputs": [],
   "source": [
    "# Layers Embeding for Book\n",
    "fashion_input3 = Input(shape=(1,), name=\"Book-Input\")    # Input layer\n",
    "fashion_embedding3 = Embedding(dim_product, 50, embeddings_initializer=\"he_normal\",\n",
    "            embeddings_regularizer=tf.keras.regularizers.l2(1e-6), name=\"Fashion-Embedding\")(fashion_input3)\n",
    "fashion_vec3 = Flatten(name=\"Flatten-Books\")(fashion_embedding3)\n",
    "\n",
    "# Layers Embeding for User\n",
    "user_input3 = Input(shape=(1,), name=\"User-Input\")       # Input layer\n",
    "user_embedding3 = Embedding(dim_users, 50, embeddings_initializer=\"he_normal\",\n",
    "            embeddings_regularizer=tf.keras.regularizers.l2(1e-6), name=\"User-Embedding\")(user_input3)\n",
    "user_vec3 = Flatten(name=\"Flatten-Users\")(user_embedding3)\n",
    "\n",
    "# Dot Product\n",
    "prod4 = Dot(name=\"Dot-Product\", axes=1)([fashion_vec3, user_vec3])"
   ]
  },
  {
   "cell_type": "code",
   "execution_count": 28,
   "metadata": {},
   "outputs": [
    {
     "name": "stdout",
     "output_type": "stream",
     "text": [
      "Model: \"model_2\"\n",
      "__________________________________________________________________________________________________\n",
      " Layer (type)                   Output Shape         Param #     Connected to                     \n",
      "==================================================================================================\n",
      " Book-Input (InputLayer)        [(None, 1)]          0           []                               \n",
      "                                                                                                  \n",
      " User-Input (InputLayer)        [(None, 1)]          0           []                               \n",
      "                                                                                                  \n",
      " Fashion-Embedding (Embedding)  (None, 1, 50)        145350      ['Book-Input[0][0]']             \n",
      "                                                                                                  \n",
      " User-Embedding (Embedding)     (None, 1, 50)        400050      ['User-Input[0][0]']             \n",
      "                                                                                                  \n",
      " Flatten-Books (Flatten)        (None, 50)           0           ['Fashion-Embedding[0][0]']      \n",
      "                                                                                                  \n",
      " Flatten-Users (Flatten)        (None, 50)           0           ['User-Embedding[0][0]']         \n",
      "                                                                                                  \n",
      " Dot-Product (Dot)              (None, 1)            0           ['Flatten-Books[0][0]',          \n",
      "                                                                  'Flatten-Users[0][0]']          \n",
      "                                                                                                  \n",
      " dense_4 (Dense)                (None, 7)            7           ['Dot-Product[0][0]']            \n",
      "                                                                                                  \n",
      " batch_normalization_2 (BatchNo  (None, 7)           28          ['dense_4[0][0]']                \n",
      " rmalization)                                                                                     \n",
      "                                                                                                  \n",
      " dropout_1 (Dropout)            (None, 7)            0           ['batch_normalization_2[0][0]']  \n",
      "                                                                                                  \n",
      " dense_5 (Dense)                (None, 5)            35          ['dropout_1[0][0]']              \n",
      "                                                                                                  \n",
      " batch_normalization_3 (BatchNo  (None, 5)           20          ['dense_5[0][0]']                \n",
      " rmalization)                                                                                     \n",
      "                                                                                                  \n",
      " dropout_2 (Dropout)            (None, 5)            0           ['batch_normalization_3[0][0]']  \n",
      "                                                                                                  \n",
      " dense_6 (Dense)                (None, 3)            15          ['dropout_2[0][0]']              \n",
      "                                                                                                  \n",
      " batch_normalization_4 (BatchNo  (None, 3)           12          ['dense_6[0][0]']                \n",
      " rmalization)                                                                                     \n",
      "                                                                                                  \n",
      " dropout_3 (Dropout)            (None, 3)            0           ['batch_normalization_4[0][0]']  \n",
      "                                                                                                  \n",
      " dense_7 (Dense)                (None, 1)            4           ['dropout_3[0][0]']              \n",
      "                                                                                                  \n",
      "==================================================================================================\n",
      "Total params: 545,521\n",
      "Trainable params: 545,491\n",
      "Non-trainable params: 30\n",
      "__________________________________________________________________________________________________\n"
     ]
    }
   ],
   "source": [
    "prod4 = Dot(name=\"Dot-Product\", axes=1, normalize = True)([fashion_vec3, user_vec3])\n",
    "\n",
    "hid1 = Dense(7, activation='relu', kernel_initializer= 'he_normal', use_bias=False)(prod4)\n",
    "hid2 = BatchNormalization()(hid1)\n",
    "hid3 = Dropout(rate=0.3)(hid2)\n",
    "\n",
    "hid4 = Dense(5, activation='relu', kernel_initializer= 'he_normal', use_bias=False)(hid3)\n",
    "hid5 = BatchNormalization()(hid4)\n",
    "hid6 = Dropout(rate=0.3)(hid5)\n",
    "\n",
    "hid7 = Dense(3, activation='relu', kernel_initializer= 'he_normal', use_bias=False)(hid6)\n",
    "hid8 = BatchNormalization()(hid7)\n",
    "hid9 = Dropout(rate=0.3)(hid8)\n",
    "\n",
    "output = Dense(1, activation='relu')(hid9)\n",
    "model_imp3 = Model([user_input3, fashion_input3], output) \n",
    "model_imp3.compile(loss='mean_squared_error',optimizer='adam', metrics=['accuracy'])\n",
    "\n",
    "model_imp3.summary()"
   ]
  },
  {
   "cell_type": "code",
   "execution_count": 29,
   "metadata": {},
   "outputs": [
    {
     "name": "stdout",
     "output_type": "stream",
     "text": [
      "Epoch 1/20\n",
      "940/940 [==============================] - 7s 6ms/step - loss: 0.5225 - accuracy: 0.2014 - val_loss: 0.3668 - val_accuracy: 0.2057\n",
      "Epoch 2/20\n",
      "940/940 [==============================] - 5s 5ms/step - loss: 0.3318 - accuracy: 0.2015 - val_loss: 0.3067 - val_accuracy: 0.2057\n",
      "Epoch 3/20\n",
      "940/940 [==============================] - 6s 6ms/step - loss: 0.2286 - accuracy: 0.2033 - val_loss: 0.1266 - val_accuracy: 0.2006\n",
      "Epoch 4/20\n",
      "940/940 [==============================] - 6s 6ms/step - loss: 0.1407 - accuracy: 0.2031 - val_loss: 0.1246 - val_accuracy: 0.1909\n",
      "Epoch 5/20\n",
      "940/940 [==============================] - 6s 7ms/step - loss: 0.1303 - accuracy: 0.2029 - val_loss: 0.1246 - val_accuracy: 0.1915\n",
      "Epoch 6/20\n",
      "940/940 [==============================] - 6s 6ms/step - loss: 0.1280 - accuracy: 0.2071 - val_loss: 0.1246 - val_accuracy: 0.1917\n",
      "Epoch 7/20\n",
      "940/940 [==============================] - 6s 6ms/step - loss: 0.1271 - accuracy: 0.2055 - val_loss: 0.1244 - val_accuracy: 0.2057\n",
      "Epoch 8/20\n",
      "940/940 [==============================] - 6s 6ms/step - loss: 0.1270 - accuracy: 0.2066 - val_loss: 0.1244 - val_accuracy: 0.1987\n",
      "Epoch 9/20\n",
      "940/940 [==============================] - 6s 7ms/step - loss: 0.1263 - accuracy: 0.2088 - val_loss: 0.1245 - val_accuracy: 0.1976\n",
      "Epoch 10/20\n",
      "940/940 [==============================] - 6s 6ms/step - loss: 0.1257 - accuracy: 0.2176 - val_loss: 0.1248 - val_accuracy: 0.1923\n",
      "Epoch 10: early stopping\n"
     ]
    }
   ],
   "source": [
    "history_imp3 = model_imp3.fit(x=[train.user_id.values,train.ProductId.values], \n",
    "                    y=y_train.values, \n",
    "                    batch_size=64, \n",
    "                    epochs=20, \n",
    "                    verbose=1, \n",
    "                    callbacks=callbacks,\n",
    "                    validation_data=([val.user_id.values,val.ProductId.values], y_val.values))\n"
   ]
  },
  {
   "cell_type": "code",
   "execution_count": 31,
   "metadata": {},
   "outputs": [
    {
     "data": {
      "image/png": "[encoded data removed]",
      "text/plain": [
       "<Figure size 432x288 with 1 Axes>"
      ]
     },
     "metadata": {
      "needs_background": "light"
     },
     "output_type": "display_data"
    }
   ],
   "source": [
    "plt.plot(history_imp3.history[\"loss\"])\n",
    "plt.plot(history_imp3.history[\"val_loss\"])\n",
    "plt.title(\"Model Loss Improvement 1\")\n",
    "plt.ylabel(\"loss\")\n",
    "plt.xlabel(\"epoch\")\n",
    "plt.legend([\"train\", \"test\"], loc=\"upper left\")\n",
    "plt.show()"
   ]
  },
  {
   "cell_type": "markdown",
   "metadata": {},
   "source": [
    "## Save Model"
   ]
  },
  {
   "cell_type": "code",
   "execution_count": 32,
   "metadata": {},
   "outputs": [],
   "source": [
    "model_imp3.save('best_model.hdf5')"
   ]
  },
  {
   "cell_type": "markdown",
   "metadata": {},
   "source": [
    "# **7. MODEL INFERENCE**"
   ]
  },
  {
   "cell_type": "code",
   "execution_count": 36,
   "metadata": {},
   "outputs": [
    {
     "name": "stdout",
     "output_type": "stream",
     "text": [
      "2/2 [==============================] - 0s 3ms/step\n"
     ]
    }
   ],
   "source": [
    "num_fashion = 50\n",
    "\n",
    "fashion_list2 = fashion[(fashion['SubCategory']=='Shoes')].ProductId.sample(num_fashion).values     # Mengambil Baju Sembarang Sebanyak 100 lembar\n",
    "user_1 = np.array([1 for k in range(len(fashion_list2))])\n",
    "\n",
    "pred = model_imp3.predict([user_1,fashion_list2]).reshape(num_fashion)\n",
    "\n",
    "top_5_ids = (-pred).argsort()[:5]\n",
    "top_5_product_id = fashion_list2[top_5_ids]\n",
    "top_5_product_rating = pred[top_5_ids]*(ratings.rating.max() - ratings.rating.min()) + ratings.rating.min()"
   ]
  },
  {
   "cell_type": "code",
   "execution_count": 37,
   "metadata": {},
   "outputs": [],
   "source": [
    "cek = fashion[(fashion['SubCategory']=='Shoes')].ProductId.sample(num_fashion).values"
   ]
  },
  {
   "cell_type": "code",
   "execution_count": 39,
   "metadata": {},
   "outputs": [
    {
     "data": {
      "text/html": [
       "<h2>Lima Product yang Direkomendasikan ke User 1:</h2>"
      ],
      "text/plain": [
       "<IPython.core.display.HTML object>"
      ]
     },
     "metadata": {},
     "output_type": "display_data"
    },
    {
     "data": {
      "image/png": "[encoded data removed]",
      "text/plain": [
       "<Figure size 720x432 with 5 Axes>"
      ]
     },
     "metadata": {
      "needs_background": "light"
     },
     "output_type": "display_data"
    }
   ],
   "source": [
    "display(HTML('<h2>Lima Product yang Direkomendasikan ke User 1:</h2>'))\n",
    "\n",
    "fig2,ax2=plt.subplots(ncols=5,figsize=(10,6))\n",
    "for i,id in enumerate(top_5_product_id):\n",
    "  a=Image.open(urllib.request.urlopen(fashion['ImageURL'].loc[id]))\n",
    "  ax2[i].imshow(a)\n",
    "  ax2[i].set_title('{}'.format(fashion['SubCategory'].loc[id],top_5_product_rating[i]))\n",
    "  ax2[i].axis('off')"
   ]
  },
  {
   "cell_type": "markdown",
   "metadata": {},
   "source": [
    "# **8. KESIMPULAN**"
   ]
  },
  {
   "cell_type": "markdown",
   "metadata": {},
   "source": [
    "## Model"
   ]
  },
  {
   "cell_type": "markdown",
   "metadata": {},
   "source": [
    "Perlu lebih banyak proses pelatihan untuk mendapatkan hasil yang terbaik, sehingga rekomendasi product yang ditawarkan oleh model lebih sesuai dengan imputan yang diberikan."
   ]
  }
 ],
 "metadata": {
  "kernelspec": {
   "display_name": "Python 3.9.7 ('base')",
   "language": "python",
   "name": "python3"
  },
  "language_info": {
   "codemirror_mode": {
    "name": "ipython",
    "version": 3
   },
   "file_extension": ".py",
   "mimetype": "text/x-python",
   "name": "python",
   "nbconvert_exporter": "python",
   "pygments_lexer": "ipython3",
   "version": "3.9.7"
  },
  "orig_nbformat": 4,
  "vscode": {
   "interpreter": {
    "hash": "a90aeebcf29d64a654773811cc170cb25061cb2498f10ac689db374c7bf325de"
   }
  }
 },
 "nbformat": 4,
 "nbformat_minor": 2
}
